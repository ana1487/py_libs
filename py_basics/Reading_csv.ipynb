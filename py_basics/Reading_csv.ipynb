{
  "nbformat": 4,
  "nbformat_minor": 0,
  "metadata": {
    "colab": {
      "provenance": []
    },
    "kernelspec": {
      "name": "python3",
      "display_name": "Python 3"
    },
    "language_info": {
      "name": "python"
    }
  },
  "cells": [
    {
      "cell_type": "code",
      "execution_count": 34,
      "metadata": {
        "id": "OtEhIET9SqsN",
        "colab": {
          "base_uri": "https://localhost:8080/"
        },
        "outputId": "ba0b9a5d-d5a3-4d43-a195-1ae0adfa880b"
      },
      "outputs": [
        {
          "output_type": "stream",
          "name": "stdout",
          "text": [
            "Drive already mounted at /content/drive; to attempt to forcibly remount, call drive.mount(\"/content/drive\", force_remount=True).\n"
          ]
        }
      ],
      "source": [
        "from google.colab import drive\n",
        "drive.mount('/content/drive')"
      ]
    },
    {
      "cell_type": "code",
      "source": [
        "import os\n",
        "import csv\n",
        "data_pkg_path = '/content/drive/My Drive/Colab Notebooks'  # Note the full path\n",
        "filename = 'data/worldcities.csv'\n",
        "path = os.path.join(data_pkg_path, filename)"
      ],
      "metadata": {
        "id": "7kDnaFVjWaAW"
      },
      "execution_count": 35,
      "outputs": []
    },
    {
      "cell_type": "code",
      "source": [
        "f = open(path, 'r')\n",
        "csv_reader = csv.DictReader(f, delimiter=',', quotechar='\"')\n",
        "print(csv_reader)\n",
        "f.close()\n"
      ],
      "metadata": {
        "colab": {
          "base_uri": "https://localhost:8080/"
        },
        "id": "BMNCIRetXaZa",
        "outputId": "0919b31b-2ed1-433c-fd5e-c982e7db7f60"
      },
      "execution_count": 36,
      "outputs": [
        {
          "output_type": "stream",
          "name": "stdout",
          "text": [
            "<csv.DictReader object at 0x7af1aa4721a0>\n"
          ]
        }
      ]
    },
    {
      "cell_type": "code",
      "source": [
        "cities = ['San Francisco', 'Los Angeles', 'New York', 'Atlanta']\n",
        "for x in enumerate(cities):\n",
        "    print(x)"
      ],
      "metadata": {
        "colab": {
          "base_uri": "https://localhost:8080/"
        },
        "id": "nHPsosbTXm7g",
        "outputId": "8eb9fa39-3b7d-4f5e-e329-75158367d3af"
      },
      "execution_count": 37,
      "outputs": [
        {
          "output_type": "stream",
          "name": "stdout",
          "text": [
            "(0, 'San Francisco')\n",
            "(1, 'Los Angeles')\n",
            "(2, 'New York')\n",
            "(3, 'Atlanta')\n"
          ]
        }
      ]
    },
    {
      "cell_type": "code",
      "source": [
        "f = open(path, 'r', encoding='utf-8')\n",
        "csv_reader = csv.DictReader(f, delimiter=',', quotechar='\"')\n",
        "for index, row in enumerate(csv_reader):\n",
        "    print(row)\n",
        "    if index == 4:\n",
        "        break\n",
        "f.close()"
      ],
      "metadata": {
        "colab": {
          "base_uri": "https://localhost:8080/"
        },
        "id": "If1H4pdtYp8D",
        "outputId": "6cd3f418-2788-4776-f848-b0f9eebb623d"
      },
      "execution_count": 38,
      "outputs": [
        {
          "output_type": "stream",
          "name": "stdout",
          "text": [
            "{'city': 'Tokyo', 'city_ascii': 'Tokyo', 'lat': '35.6850', 'lng': '139.7514', 'country': 'Japan', 'iso2': 'JP', 'iso3': 'JPN', 'admin_name': 'Tōkyō', 'capital': 'primary', 'population': '35676000', 'id': '1392685764'}\n",
            "{'city': 'New York', 'city_ascii': 'New York', 'lat': '40.6943', 'lng': '-73.9249', 'country': 'United States', 'iso2': 'US', 'iso3': 'USA', 'admin_name': 'New York', 'capital': '', 'population': '19354922.0', 'id': '1840034016'}\n",
            "{'city': 'Mexico City', 'city_ascii': 'Mexico City', 'lat': '19.4424', 'lng': '-99.1310', 'country': 'Mexico', 'iso2': 'MX', 'iso3': 'MEX', 'admin_name': 'Ciudad de México', 'capital': 'primary', 'population': '19028000', 'id': '1484247881'}\n",
            "{'city': 'Mumbai', 'city_ascii': 'Mumbai', 'lat': '19.0170', 'lng': '72.8570', 'country': 'India', 'iso2': 'IN', 'iso3': 'IND', 'admin_name': 'Mahārāshtra', 'capital': 'admin', 'population': '18978000', 'id': '1356226629'}\n",
            "{'city': 'São Paulo', 'city_ascii': 'Sao Paulo', 'lat': '-23.5587', 'lng': '-46.6250', 'country': 'Brazil', 'iso2': 'BR', 'iso3': 'BRA', 'admin_name': 'São Paulo', 'capital': 'admin', 'population': '18845000', 'id': '1076532519'}\n"
          ]
        }
      ]
    },
    {
      "cell_type": "code",
      "source": [
        "with open(path, 'r', encoding='utf-8') as f:\n",
        "    csv_reader = csv.DictReader(f)"
      ],
      "metadata": {
        "id": "MZRUlouJaIuG"
      },
      "execution_count": 39,
      "outputs": []
    },
    {
      "cell_type": "code",
      "source": [
        "home_country = 'Nepal'\n",
        "num_cities = 0\n",
        "\n",
        "with open(path, 'r', encoding='utf-8') as f:\n",
        "    csv_reader = csv.DictReader(f)\n",
        "\n",
        "    for row in csv_reader:\n",
        "        if row['country'] == home_country:\n",
        "            num_cities += 1\n",
        "\n",
        "print(num_cities)"
      ],
      "metadata": {
        "colab": {
          "base_uri": "https://localhost:8080/"
        },
        "id": "cKfSOOVqasEi",
        "outputId": "6d178bf0-573f-41ec-f8aa-3dd5091d9f24"
      },
      "execution_count": 40,
      "outputs": [
        {
          "output_type": "stream",
          "name": "stdout",
          "text": [
            "21\n"
          ]
        }
      ]
    },
    {
      "cell_type": "code",
      "source": [
        "home_city = 'Pokhara'\n",
        "\n",
        "home_city_coordinates = ()\n",
        "\n",
        "with open(path, 'r', encoding='utf-8') as f:\n",
        "    csv_reader = csv.DictReader(f)\n",
        "    for row in csv_reader:\n",
        "        if row['city_ascii'] == home_city:\n",
        "            lat = row['lat']\n",
        "            lng = row['lng']\n",
        "            home_city_coordinates = (lat, lng)\n",
        "            break\n",
        "\n",
        "print(home_city_coordinates)"
      ],
      "metadata": {
        "colab": {
          "base_uri": "https://localhost:8080/"
        },
        "id": "V6BFNWyqbBGO",
        "outputId": "7cdbff1d-c803-49b2-c4f6-835d0d3703d3"
      },
      "execution_count": 41,
      "outputs": [
        {
          "output_type": "stream",
          "name": "stdout",
          "text": [
            "('28.2640', '83.9720')\n"
          ]
        }
      ]
    },
    {
      "cell_type": "code",
      "source": [
        "from geopy import distance\n",
        "\n",
        "counter = 0\n",
        "with open(path, 'r', encoding='utf-8') as f:\n",
        "    csv_reader = csv.DictReader(f)\n",
        "    for row in csv_reader:\n",
        "        if (row['country'] == home_country and\n",
        "            row['city_ascii'] != home_city):\n",
        "            city_coordinates = (row['lat'], row['lng'])\n",
        "            city_distance = distance.geodesic(\n",
        "                city_coordinates, home_city_coordinates).km\n",
        "            print(row['city_ascii'], city_distance)\n",
        "            counter += 1\n",
        "\n",
        "        if counter == 5:\n",
        "            break"
      ],
      "metadata": {
        "colab": {
          "base_uri": "https://localhost:8080/"
        },
        "id": "IqJYJtYYesIZ",
        "outputId": "68433ad6-adbd-412f-b0ac-c98b4208adf0"
      },
      "execution_count": 42,
      "outputs": [
        {
          "output_type": "stream",
          "name": "stdout",
          "text": [
            "Kathmandu 145.51047260091906\n",
            "Jitpur 149.40908394081777\n",
            "Hetauda 140.52601779193193\n",
            "Biratnagar 382.3565927118665\n",
            "Birganj 165.5340029790004\n"
          ]
        }
      ]
    },
    {
      "cell_type": "code",
      "source": [
        "from geopy import distance\n",
        "counter = 0\n",
        "with open(path, 'r', encoding ='utf-8') as f:\n",
        "  csv_reader = csv.DictReader(f)\n",
        "\n",
        "  for row in csv_reader:\n",
        "    if (row['country'] == home_country and row['city_ascii'] != home_city):\n",
        "      city_coordinates = (row['lat'], row['lng'])\n",
        "      city_distance = distance.geodesic(\n",
        "          city_coordinates, home_city_coordinates).km\n",
        "      print(row['city_ascii'], city_distance)\n",
        "      counter += 1\n",
        "\n",
        "      if counter == 5:\n",
        "        break"
      ],
      "metadata": {
        "colab": {
          "base_uri": "https://localhost:8080/"
        },
        "id": "Io8PH9QQetKV",
        "outputId": "43c7c482-5696-4a83-a918-fb79dd2c6bc5"
      },
      "execution_count": 43,
      "outputs": [
        {
          "output_type": "stream",
          "name": "stdout",
          "text": [
            "Kathmandu 145.51047260091906\n",
            "Jitpur 149.40908394081777\n",
            "Hetauda 140.52601779193193\n",
            "Biratnagar 382.3565927118665\n",
            "Birganj 165.5340029790004\n"
          ]
        }
      ]
    },
    {
      "cell_type": "code",
      "source": [
        "output_dir = 'output'\n",
        "if not os.path.exists(output_dir):\n",
        "    os.mkdir(output_dir)"
      ],
      "metadata": {
        "id": "V6z41Jauj_av"
      },
      "execution_count": 46,
      "outputs": []
    },
    {
      "cell_type": "code",
      "source": [
        "output_filename = 'cities_distance.csv'\n",
        "output_path = os.path.join(output_dir, output_filename)\n",
        "\n",
        "with open(output_path, mode='w', newline='', encoding='utf-8') as output_file:\n",
        "    fieldnames = ['city', 'distance_from_home']\n",
        "    csv_writer = csv.DictWriter(output_file, fieldnames=fieldnames)\n",
        "    csv_writer.writeheader()\n",
        "\n",
        "    # Now we read the input file, calculate distance and\n",
        "    # write a row to the output\n",
        "    with open(path, 'r', encoding='utf-8') as f:\n",
        "        csv_reader = csv.DictReader(f)\n",
        "        for row in csv_reader:\n",
        "            if (row['country'] == home_country and\n",
        "                row['city_ascii'] != home_city):\n",
        "                city_coordinates = (row['lat'], row['lng'])\n",
        "                city_distance = distance.geodesic(\n",
        "                    city_coordinates, home_city_coordinates).km\n",
        "                csv_writer.writerow(\n",
        "                    {'city': row['city_ascii'],\n",
        "                     'distance_from_home': city_distance}\n",
        "                )"
      ],
      "metadata": {
        "id": "1oPwdNOthnES"
      },
      "execution_count": 47,
      "outputs": []
    }
  ]
}