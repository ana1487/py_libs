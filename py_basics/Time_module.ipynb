{
  "nbformat": 4,
  "nbformat_minor": 0,
  "metadata": {
    "colab": {
      "provenance": []
    },
    "kernelspec": {
      "name": "python3",
      "display_name": "Python 3"
    },
    "language_info": {
      "name": "python"
    }
  },
  "cells": [
    {
      "cell_type": "code",
      "source": [
        "!pip install rasterio\n"
      ],
      "metadata": {
        "colab": {
          "base_uri": "https://localhost:8080/"
        },
        "id": "WkwM6YP77g4l",
        "outputId": "30511a5d-53aa-41b7-8e13-b36b8ada0a1c"
      },
      "execution_count": 2,
      "outputs": [
        {
          "output_type": "stream",
          "name": "stdout",
          "text": [
            "Collecting rasterio\n",
            "  Downloading rasterio-1.4.2-cp310-cp310-manylinux_2_17_x86_64.manylinux2014_x86_64.whl.metadata (9.1 kB)\n",
            "Collecting affine (from rasterio)\n",
            "  Downloading affine-2.4.0-py3-none-any.whl.metadata (4.0 kB)\n",
            "Requirement already satisfied: attrs in /usr/local/lib/python3.10/dist-packages (from rasterio) (24.2.0)\n",
            "Requirement already satisfied: certifi in /usr/local/lib/python3.10/dist-packages (from rasterio) (2024.8.30)\n",
            "Requirement already satisfied: click>=4.0 in /usr/local/lib/python3.10/dist-packages (from rasterio) (8.1.7)\n",
            "Collecting cligj>=0.5 (from rasterio)\n",
            "  Downloading cligj-0.7.2-py3-none-any.whl.metadata (5.0 kB)\n",
            "Requirement already satisfied: numpy>=1.24 in /usr/local/lib/python3.10/dist-packages (from rasterio) (1.26.4)\n",
            "Collecting click-plugins (from rasterio)\n",
            "  Downloading click_plugins-1.1.1-py2.py3-none-any.whl.metadata (6.4 kB)\n",
            "Requirement already satisfied: pyparsing in /usr/local/lib/python3.10/dist-packages (from rasterio) (3.2.0)\n",
            "Downloading rasterio-1.4.2-cp310-cp310-manylinux_2_17_x86_64.manylinux2014_x86_64.whl (22.2 MB)\n",
            "\u001b[2K   \u001b[90m━━━━━━━━━━━━━━━━━━━━━━━━━━━━━━━━━━━━━━━━\u001b[0m \u001b[32m22.2/22.2 MB\u001b[0m \u001b[31m87.7 MB/s\u001b[0m eta \u001b[36m0:00:00\u001b[0m\n",
            "\u001b[?25hDownloading cligj-0.7.2-py3-none-any.whl (7.1 kB)\n",
            "Downloading affine-2.4.0-py3-none-any.whl (15 kB)\n",
            "Downloading click_plugins-1.1.1-py2.py3-none-any.whl (7.5 kB)\n",
            "Installing collected packages: cligj, click-plugins, affine, rasterio\n",
            "Successfully installed affine-2.4.0 click-plugins-1.1.1 cligj-0.7.2 rasterio-1.4.2\n"
          ]
        }
      ]
    },
    {
      "cell_type": "code",
      "execution_count": 4,
      "metadata": {
        "colab": {
          "base_uri": "https://localhost:8080/"
        },
        "id": "5A2GNDc-6XE9",
        "outputId": "eacb2084-eaa1-4601-92ea-792b8b3b646a"
      },
      "outputs": [
        {
          "output_type": "stream",
          "name": "stdout",
          "text": [
            "0\n",
            "1\n",
            "2\n",
            "3\n",
            "4\n",
            "5\n",
            "6\n",
            "7\n",
            "8\n",
            "9\n"
          ]
        }
      ],
      "source": [
        "\n",
        "import time\n",
        "for x in range(10):\n",
        "    print(x)\n",
        "    time.sleep(2)"
      ]
    },
    {
      "cell_type": "markdown",
      "source": [
        "Below cell contains a dictionary with 3 destination cities and their coordinates. Write a for loop to iterate over the destination_cities dictionary and call get_driving_distance() function to print real driving distance between San Fransico and each city. Rate limit your queries by adding time.sleep(2) between successive function calls. Make sure to replace the ORS_API_KEY value with your own key.\n",
        "\n",
        "\n",
        "\n",
        "```\n",
        "# This is formatted as code\n",
        "```\n",
        "\n"
      ],
      "metadata": {
        "id": "xaIMJWuR7231"
      }
    },
    {
      "cell_type": "code",
      "source": [
        "import requests\n",
        "import time\n",
        "\n",
        "ORS_API_KEY = '5b3ce3597851110001cf6248509e46dc199546ee9bf11f6d45d798dd'\n",
        "\n",
        "def get_driving_distance(source_coordinates, dest_coordinates):\n",
        "    parameters = {\n",
        "    'api_key': ORS_API_KEY,\n",
        "    'start' : '{},{}'.format(source_coordinates[1], source_coordinates[0]),\n",
        "    'end' : '{},{}'.format(dest_coordinates[1], dest_coordinates[0])\n",
        "    }\n",
        "\n",
        "    response = requests.get(\n",
        "        'https://api.openrouteservice.org/v2/directions/driving-car', params=parameters)\n",
        "\n",
        "    if response.status_code == 200:\n",
        "        data = response.json()\n",
        "        summary = data['features'][0]['properties']['summary']\n",
        "        distance = summary['distance']\n",
        "        return distance/1000\n",
        "    else:\n",
        "        print('Request failed.')\n",
        "        return -9999\n",
        "\n",
        "san_francisco = (37.7749, -122.4194)\n",
        "\n",
        "destination_cities = {\n",
        "    'Los Angeles': (34.0522, -118.2437),\n",
        "    'Boston': (42.3601, -71.0589),\n",
        "    'Atlanta': (33.7490, -84.3880)\n",
        "}\n",
        "for i in range(len(destination_cities)):\n",
        "    print(get_driving_distance(san_francisco, list(destination_cities.values())[i]))\n",
        "    time.sleep(2)"
      ],
      "metadata": {
        "colab": {
          "base_uri": "https://localhost:8080/"
        },
        "id": "GmyY2XCo7xUq",
        "outputId": "43fdb7a4-7731-4c24-bd22-13237838a028"
      },
      "execution_count": 7,
      "outputs": [
        {
          "output_type": "stream",
          "name": "stdout",
          "text": [
            "615.3057\n",
            "4991.245599999999\n",
            "3976.12\n"
          ]
        }
      ]
    }
  ]
}