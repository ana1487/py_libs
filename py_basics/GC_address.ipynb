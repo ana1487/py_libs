{
 "cells": [
  {
   "cell_type": "code",
   "execution_count": 4,
   "metadata": {
    "colab": {
     "base_uri": "https://localhost:8080/"
    },
    "id": "xmCJ08A6_Lqp",
    "outputId": "5141b8fe-7edb-4f1a-9d35-58b2a4ec4676"
   },
   "outputs": [
    {
     "name": "stdout",
     "output_type": "stream",
     "text": [
      "Collecting rasterio\n",
      "  Downloading rasterio-1.4.2-cp310-cp310-manylinux_2_17_x86_64.manylinux2014_x86_64.whl.metadata (9.1 kB)\n",
      "Collecting affine (from rasterio)\n",
      "  Downloading affine-2.4.0-py3-none-any.whl.metadata (4.0 kB)\n",
      "Requirement already satisfied: attrs in /usr/local/lib/python3.10/dist-packages (from rasterio) (24.2.0)\n",
      "Requirement already satisfied: certifi in /usr/local/lib/python3.10/dist-packages (from rasterio) (2024.8.30)\n",
      "Requirement already satisfied: click>=4.0 in /usr/local/lib/python3.10/dist-packages (from rasterio) (8.1.7)\n",
      "Collecting cligj>=0.5 (from rasterio)\n",
      "  Downloading cligj-0.7.2-py3-none-any.whl.metadata (5.0 kB)\n",
      "Requirement already satisfied: numpy>=1.24 in /usr/local/lib/python3.10/dist-packages (from rasterio) (1.26.4)\n",
      "Collecting click-plugins (from rasterio)\n",
      "  Downloading click_plugins-1.1.1-py2.py3-none-any.whl.metadata (6.4 kB)\n",
      "Requirement already satisfied: pyparsing in /usr/local/lib/python3.10/dist-packages (from rasterio) (3.2.0)\n",
      "Downloading rasterio-1.4.2-cp310-cp310-manylinux_2_17_x86_64.manylinux2014_x86_64.whl (22.2 MB)\n",
      "\u001b[2K   \u001b[90m━━━━━━━━━━━━━━━━━━━━━━━━━━━━━━━━━━━━━━━━\u001b[0m \u001b[32m22.2/22.2 MB\u001b[0m \u001b[31m52.7 MB/s\u001b[0m eta \u001b[36m0:00:00\u001b[0m\n",
      "\u001b[?25hDownloading cligj-0.7.2-py3-none-any.whl (7.1 kB)\n",
      "Downloading affine-2.4.0-py3-none-any.whl (15 kB)\n",
      "Downloading click_plugins-1.1.1-py2.py3-none-any.whl (7.5 kB)\n",
      "Installing collected packages: cligj, click-plugins, affine, rasterio\n",
      "Successfully installed affine-2.4.0 click-plugins-1.1.1 cligj-0.7.2 rasterio-1.4.2\n"
     ]
    }
   ],
   "source": [
    "!pip install rasterio\n",
    "\n"
   ]
  },
  {
   "cell_type": "code",
   "execution_count": 13,
   "metadata": {
    "colab": {
     "base_uri": "https://localhost:8080/"
    },
    "id": "Qtd7xXFo_NiE",
    "outputId": "ca14e78a-1948-4b41-f78a-9dee4db0f4f9"
   },
   "outputs": [
    {
     "name": "stdout",
     "output_type": "stream",
     "text": [
      "[('Norman Thomas HS (ECF)', 40.7462177, -73.9809816), ('Midtown East Campus', 40.65132465, -73.92421646290632), ('Louis D. Brandeis HS', 40.7857432, -73.9742029), ('Martin Luther King, Jr. HS', 40.7747751, -73.9853689), ('P.S. 48', 40.853075700000005, -73.93371301509411)]\n"
     ]
    }
   ],
   "source": [
    "from geopy.geocoders import Nominatim\n",
    "import time\n",
    "geolocator = Nominatim(user_agent=\"name_max\")\n",
    "locations = [\n",
    "    ('Norman Thomas HS (ECF)', '111 E 33rd St, NYC, New York'),\n",
    "    ('Midtown East Campus', '233 E 56th St, NYC, New York'),\n",
    "    ('Louis D. Brandeis HS', '145 W 84th St, NYC, New York'),\n",
    "    ('Martin Luther King, Jr. HS', '122 Amsterdam Avenue, NYC, New York'),\n",
    "    ('P.S. 48', '4360 Broadway, NYC, New York')\n",
    "]\n",
    "list1 =[]\n",
    "for name, address in locations:\n",
    "    location = geolocator.geocode(address)\n",
    "    if location:\n",
    "        list1.append((name, location.latitude, location.longitude))\n",
    "        # print(f\"{name}: ({location.latitude}, {location.longitude})\")\n",
    "    else:\n",
    "        print(f\"{name}: Location not found\")\n",
    "    time.sleep(1)\n",
    "print(list1)"
   ]
  },
  {
   "cell_type": "code",
   "execution_count": null,
   "metadata": {
    "colab": {
     "base_uri": "https://localhost:8080/"
    },
    "id": "0Zvp47H2G7KH",
    "outputId": "3ac8067a-48c7-42fa-e49d-ddd52e408615"
   },
   "outputs": [
    {
     "name": "stdout",
     "output_type": "stream",
     "text": [
      "[('Kathmandu', 27.713096098286844, 85.31778379350992), ('Pokhara', 28.2210594, 83.9583139849359), ('Patan', 27.6733988, 85.3250562), ('Lumbini', 27.496377, 83.2736113), ('Boudha', 27.72139105, 85.36203993485958)]\n"
     ]
    }
   ],
   "source": [
    "from geopy.geocoders import Nominatim\n",
    "import time\n",
    "geolocator = Nominatim(user_agent=\"name_min\")\n",
    "\n",
    "locations_nepal =[ ('Kathmandu',\"Durbar Marg, Kathmandu, Nepal\"),\n",
    "('Pokhara',\"Lakeside, Pokhara 33700, Nepal\"),\n",
    "('Patan',\"Patan Durbar Square, Lalitpur 44700, Nepal\"),\n",
    "('Lumbini',\"Lumbini Hotel Kasai, Lumbini 32900, Nepal\"),\n",
    "('Boudha',\"Boudhanath Stupa, Boudha, Kathmandu 44600, Nepal\")]\n",
    "\n",
    "\n",
    "list2 = []\n",
    "\n",
    "for name, address in locations_nepal:\n",
    "    location = geolocator.geocode(address)\n",
    "    if location:\n",
    "        list2.append((name, location.latitude, location.longitude))\n",
    "        # print(f\"{name}: ({location.latitude}, {location.longitude})\")\n",
    "    else:\n",
    "        print(f\"{name}: Location not found\")\n",
    "    time.sleep(1)\n",
    "print(list2)\n",
    "#27.49869513266946, 83.27234352708754\n",
    "\n",
    "# lumbini_location = geolocator.reverse(\"27.49869513266946, 83.27234352708754\")\n",
    "\n",
    "# print(lumbini_location)\n",
    "\n"
   ]
  },
  {
   "cell_type": "code",
   "execution_count": null,
   "metadata": {},
   "outputs": [],
   "source": [
    "#Tried to get the coordinates for some places in India.\n",
    "\n",
    "from geopy.geocoders import Nominatim\n",
    "import time\n",
    "\n",
    "locations = [('Spatial Thoughts','Gala Gymkhana Road, Bopal, Ahmedabad, India'),\n",
    "             (\"Taj Mahal\",\"Dharmapuri, Forest Colony, Tajganj, Agra, Uttar Pradesh 282001, India\"),\n",
    "             (\"Golden Temple\", \"Golden Temple Road, Amritsar, Punjab 143006, India\"),\n",
    "             (\"Red Fort\", \"Netaji Subhash Marg, Lal Qila, Chandni Chowk, New Delhi, Delhi 110006, India\"),\n",
    "             (\"Gateway of India\",\"Apollo Bandar, Colaba, Mumbai, Maharashtra 400001, India\")]\n",
    "\n",
    "list_india = []\n",
    "\n",
    "for name, address in locations:\n",
    "    Location = geolocator.geocode(address)\n",
    "    if Location:\n",
    "      list_india.append((name, Location.latitude, Location.longitude))\n",
    "    else:\n",
    "      print(f'{name}: Location not found')\n",
    "    \n",
    "    time.sleep(1)\n",
    "print(list_india)\n",
    "\n",
    "\n",
    "#Two locations couldn't be mapped properly for the India part"
   ]
  },
  {
   "cell_type": "code",
   "execution_count": null,
   "metadata": {},
   "outputs": [],
   "source": []
  }
 ],
 "metadata": {
  "colab": {
   "provenance": []
  },
  "kernelspec": {
   "display_name": "Python 3",
   "name": "python3"
  },
  "language_info": {
   "name": "python"
  }
 },
 "nbformat": 4,
 "nbformat_minor": 0
}
